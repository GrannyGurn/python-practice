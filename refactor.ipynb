{
 "cells": [
  {
   "cell_type": "markdown",
   "metadata": {},
   "source": [
    "## Refactor code for mass calculator\n",
    "\n",
    "The code in MassCalculator.py is old and embarrasing, so I would like to refactor it. This will give me the opportunity to determine if I want to do anything else with it.\n",
    "\n",
    "I would like to write the new script with TDD in mind, and write tests as soon as I dredge up the script's original functionality."
   ]
  },
  {
   "cell_type": "markdown",
   "metadata": {},
   "source": [
    "#### functionality\n",
    "\n",
    "What functionality should the refurbished script have? Here are a list of functions from the original script:"
   ]
  },
  {
   "cell_type": "raw",
   "metadata": {},
   "source": [
    "Function/Module/Method List:\n",
    "    Module main()\n",
    "    Module welcome(string user_name)\n",
    "    Module help_me()\n",
    "    Module goodbye(string user_name)\n",
    "    Module input_again(string invalid_input)\n",
    "    Function string accept_user_input(string prompt, string in_type)    \n",
    "    Function array parse_formula(string full_formula)\n",
    "    Function real calculate_subtotal(array parsed_formula)    \n",
    "    Function Boolean verify_help_input(string help_input)  \n",
    "    Function int atom_quantity(string name)\n",
    "    Function real mol_count(string formula)  \n",
    "    Function real calculate_product(real num1, real num2)\n",
    "    Function string generate_formula(string partial_formula, string atomic_symbol, quantity)\n",
    "For Class ElementData:\n",
    "    Module string get_symbols()\n",
    "    Method string get_name(int atomic_number)\n",
    "    Method real get_mass(int atomic_number)\n",
    "For Class Verify:\n",
    "    Method Boolean verify_symbol_input(string symbol_input)\n",
    "    Method Boolean verify_qty_input(string atm_quantity_input)\n",
    "    Method Boolean verify_mol_input(string mol_input)\n",
    "    Method Boolean verify_formula_input(array parsed_formula)"
   ]
  },
  {
   "cell_type": "markdown",
   "metadata": {},
   "source": [
    "Things this app can accomplish:\n",
    "*\n",
    "\n",
    "This shows us that the program logic is pretty convoluted. I think an entire rewrite might be faster than trying to work towards a better structure.\n",
    "\n"
   ]
  },
  {
   "cell_type": "code",
   "execution_count": null,
   "metadata": {},
   "outputs": [],
   "source": []
  },
  {
   "cell_type": "code",
   "execution_count": null,
   "metadata": {},
   "outputs": [],
   "source": []
  },
  {
   "cell_type": "code",
   "execution_count": null,
   "metadata": {},
   "outputs": [],
   "source": []
  }
 ],
 "metadata": {
  "kernelspec": {
   "display_name": "Python 3",
   "language": "python",
   "name": "python3"
  },
  "language_info": {
   "codemirror_mode": {
    "name": "ipython",
    "version": 3
   },
   "file_extension": ".py",
   "mimetype": "text/x-python",
   "name": "python",
   "nbconvert_exporter": "python",
   "pygments_lexer": "ipython3",
   "version": "3.6.8"
  }
 },
 "nbformat": 4,
 "nbformat_minor": 2
}
